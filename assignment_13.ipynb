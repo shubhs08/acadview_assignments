{
 "cells": [
  {
   "cell_type": "code",
   "execution_count": 3,
   "metadata": {},
   "outputs": [],
   "source": [
    "from sklearn.metrics import mean_absolute_error\n",
    "from sklearn.metrics import mean_squared_error\n",
    "from sklearn.metrics import confusion_matrix\n",
    "from sklearn.linear_model import LinearRegression\n",
    "from sklearn.linear_model import LogisticRegression\n",
    "from sklearn.model_selection import train_test_split\n",
    "import matplotlib.pyplot as plt\n",
    "import seaborn as sn\n",
    "import pandas as pd\n",
    "import numpy as np\n",
    "%matplotlib inline"
   ]
  },
  {
   "cell_type": "code",
   "execution_count": 4,
   "metadata": {},
   "outputs": [],
   "source": [
    "#Question 1\n",
    "from sklearn.datasets import load_digits"
   ]
  },
  {
   "cell_type": "code",
   "execution_count": 5,
   "metadata": {},
   "outputs": [],
   "source": [
    "digit=load_digits()\n",
    "x=digit.data\n",
    "y=digit.target\n"
   ]
  },
  {
   "cell_type": "code",
   "execution_count": 6,
   "metadata": {},
   "outputs": [
    {
     "data": {
      "text/plain": [
       "<matplotlib.image.AxesImage at 0xcbc71d0>"
      ]
     },
     "execution_count": 6,
     "metadata": {},
     "output_type": "execute_result"
    },
    {
     "data": {
      "image/png": "[encoded data removed]",
      "text/plain": [
       "<matplotlib.figure.Figure at 0xc0bac18>"
      ]
     },
     "metadata": {},
     "output_type": "display_data"
    }
   ],
   "source": [
    "plt.imshow(x[4].reshape(8,8),cmap=plt.cm.gray)"
   ]
  },
  {
   "cell_type": "code",
   "execution_count": 7,
   "metadata": {},
   "outputs": [],
   "source": [
    "#Question 2\n",
    "\n",
    "x_train,x_test,y_train,y_test = train_test_split(x,y,test_size = 0.3)"
   ]
  },
  {
   "cell_type": "code",
   "execution_count": 8,
   "metadata": {},
   "outputs": [],
   "source": [
    "# Question 3\n",
    "\n",
    "from sklearn.svm import SVC\n"
   ]
  },
  {
   "cell_type": "code",
   "execution_count": 9,
   "metadata": {},
   "outputs": [],
   "source": [
    "model=SVC()"
   ]
  },
  {
   "cell_type": "code",
   "execution_count": 17,
   "metadata": {},
   "outputs": [
    {
     "data": {
      "text/plain": [
       "SVC(C=1.0, cache_size=200, class_weight=None, coef0=0.0,\n",
       "  decision_function_shape='ovr', degree=3, gamma='auto', kernel='rbf',\n",
       "  max_iter=-1, probability=False, random_state=None, shrinking=True,\n",
       "  tol=0.001, verbose=False)"
      ]
     },
     "execution_count": 17,
     "metadata": {},
     "output_type": "execute_result"
    }
   ],
   "source": [
    "model.fit(x_train,y_train)  #kernel=gaussian"
   ]
  },
  {
   "cell_type": "code",
   "execution_count": 18,
   "metadata": {},
   "outputs": [],
   "source": [
    "pred = model.predict(x_test)"
   ]
  },
  {
   "cell_type": "code",
   "execution_count": 19,
   "metadata": {},
   "outputs": [
    {
     "name": "stdout",
     "output_type": "stream",
     "text": [
      "             precision    recall  f1-score   support\n",
      "\n",
      "          0       1.00      0.37      0.54        60\n",
      "          1       1.00      0.42      0.59        53\n",
      "          2       1.00      0.28      0.43        54\n",
      "          3       1.00      0.32      0.49        56\n",
      "          4       1.00      0.59      0.74        51\n",
      "          5       1.00      0.15      0.26        59\n",
      "          6       1.00      0.44      0.61        55\n",
      "          7       1.00      0.25      0.39        57\n",
      "          8       1.00      0.12      0.22        48\n",
      "          9       0.12      1.00      0.22        47\n",
      "\n",
      "avg / total       0.92      0.38      0.45       540\n",
      "\n"
     ]
    }
   ],
   "source": [
    "from sklearn.metrics import classification_report\n",
    "print(classification_report(y_test,pred))"
   ]
  },
  {
   "cell_type": "code",
   "execution_count": 20,
   "metadata": {},
   "outputs": [
    {
     "data": {
      "text/plain": [
       "0.38333333333333336"
      ]
     },
     "execution_count": 20,
     "metadata": {},
     "output_type": "execute_result"
    }
   ],
   "source": [
    "from sklearn import metrics\n",
    "metrics.accuracy_score(y_test,pred)"
   ]
  },
  {
   "cell_type": "code",
   "execution_count": 14,
   "metadata": {},
   "outputs": [],
   "source": [
    "\n",
    "from sklearn.metrics import confusion_matrix"
   ]
  },
  {
   "cell_type": "code",
   "execution_count": 21,
   "metadata": {},
   "outputs": [
    {
     "data": {
      "text/plain": [
       "array([[22,  0,  0,  0,  0,  0,  0,  0,  0, 38],\n",
       "       [ 0, 22,  0,  0,  0,  0,  0,  0,  0, 31],\n",
       "       [ 0,  0, 15,  0,  0,  0,  0,  0,  0, 39],\n",
       "       [ 0,  0,  0, 18,  0,  0,  0,  0,  0, 38],\n",
       "       [ 0,  0,  0,  0, 30,  0,  0,  0,  0, 21],\n",
       "       [ 0,  0,  0,  0,  0,  9,  0,  0,  0, 50],\n",
       "       [ 0,  0,  0,  0,  0,  0, 24,  0,  0, 31],\n",
       "       [ 0,  0,  0,  0,  0,  0,  0, 14,  0, 43],\n",
       "       [ 0,  0,  0,  0,  0,  0,  0,  0,  6, 42],\n",
       "       [ 0,  0,  0,  0,  0,  0,  0,  0,  0, 47]], dtype=int64)"
      ]
     },
     "execution_count": 21,
     "metadata": {},
     "output_type": "execute_result"
    }
   ],
   "source": [
    "confusion_matrix(y_test,pred)"
   ]
  },
  {
   "cell_type": "code",
   "execution_count": 23,
   "metadata": {},
   "outputs": [],
   "source": [
    "model1=SVC(kernel=\"poly\") #kernel=poly"
   ]
  },
  {
   "cell_type": "code",
   "execution_count": 26,
   "metadata": {},
   "outputs": [
    {
     "data": {
      "text/plain": [
       "SVC(C=1.0, cache_size=200, class_weight=None, coef0=0.0,\n",
       "  decision_function_shape='ovr', degree=3, gamma='auto', kernel='poly',\n",
       "  max_iter=-1, probability=False, random_state=None, shrinking=True,\n",
       "  tol=0.001, verbose=False)"
      ]
     },
     "execution_count": 26,
     "metadata": {},
     "output_type": "execute_result"
    }
   ],
   "source": [
    "model1.fit(x_train,y_train)"
   ]
  },
  {
   "cell_type": "code",
   "execution_count": 27,
   "metadata": {},
   "outputs": [],
   "source": [
    "pred1=model1.predict(x_test)"
   ]
  },
  {
   "cell_type": "code",
   "execution_count": 28,
   "metadata": {},
   "outputs": [
    {
     "name": "stdout",
     "output_type": "stream",
     "text": [
      "             precision    recall  f1-score   support\n",
      "\n",
      "          0       1.00      0.98      0.99        60\n",
      "          1       0.98      1.00      0.99        53\n",
      "          2       1.00      1.00      1.00        54\n",
      "          3       1.00      0.98      0.99        56\n",
      "          4       0.98      1.00      0.99        51\n",
      "          5       0.97      0.95      0.96        59\n",
      "          6       0.98      0.98      0.98        55\n",
      "          7       1.00      1.00      1.00        57\n",
      "          8       0.98      0.94      0.96        48\n",
      "          9       0.94      1.00      0.97        47\n",
      "\n",
      "avg / total       0.98      0.98      0.98       540\n",
      "\n"
     ]
    }
   ],
   "source": [
    "print(classification_report(y_test,pred1))"
   ]
  },
  {
   "cell_type": "code",
   "execution_count": 30,
   "metadata": {},
   "outputs": [
    {
     "data": {
      "text/plain": [
       "0.9833333333333333"
      ]
     },
     "execution_count": 30,
     "metadata": {},
     "output_type": "execute_result"
    }
   ],
   "source": [
    "metrics.accuracy_score(y_test,pred1)"
   ]
  },
  {
   "cell_type": "code",
   "execution_count": 31,
   "metadata": {},
   "outputs": [
    {
     "data": {
      "text/plain": [
       "array([[59,  0,  0,  0,  1,  0,  0,  0,  0,  0],\n",
       "       [ 0, 53,  0,  0,  0,  0,  0,  0,  0,  0],\n",
       "       [ 0,  0, 54,  0,  0,  0,  0,  0,  0,  0],\n",
       "       [ 0,  0,  0, 55,  0,  0,  0,  0,  1,  0],\n",
       "       [ 0,  0,  0,  0, 51,  0,  0,  0,  0,  0],\n",
       "       [ 0,  0,  0,  0,  0, 56,  1,  0,  0,  2],\n",
       "       [ 0,  0,  0,  0,  0,  1, 54,  0,  0,  0],\n",
       "       [ 0,  0,  0,  0,  0,  0,  0, 57,  0,  0],\n",
       "       [ 0,  1,  0,  0,  0,  1,  0,  0, 45,  1],\n",
       "       [ 0,  0,  0,  0,  0,  0,  0,  0,  0, 47]], dtype=int64)"
      ]
     },
     "execution_count": 31,
     "metadata": {},
     "output_type": "execute_result"
    }
   ],
   "source": [
    "confusion_matrix(y_test,pred1)"
   ]
  },
  {
   "cell_type": "code",
   "execution_count": 32,
   "metadata": {},
   "outputs": [],
   "source": [
    "model2=SVC(kernel=\"linear\") #kernel=linear"
   ]
  },
  {
   "cell_type": "code",
   "execution_count": 33,
   "metadata": {},
   "outputs": [
    {
     "data": {
      "text/plain": [
       "SVC(C=1.0, cache_size=200, class_weight=None, coef0=0.0,\n",
       "  decision_function_shape='ovr', degree=3, gamma='auto', kernel='linear',\n",
       "  max_iter=-1, probability=False, random_state=None, shrinking=True,\n",
       "  tol=0.001, verbose=False)"
      ]
     },
     "execution_count": 33,
     "metadata": {},
     "output_type": "execute_result"
    }
   ],
   "source": [
    "model2.fit(x_train,y_train)"
   ]
  },
  {
   "cell_type": "code",
   "execution_count": 35,
   "metadata": {},
   "outputs": [],
   "source": [
    "pred2=model2.predict(x_test)"
   ]
  },
  {
   "cell_type": "code",
   "execution_count": 36,
   "metadata": {},
   "outputs": [
    {
     "name": "stdout",
     "output_type": "stream",
     "text": [
      "             precision    recall  f1-score   support\n",
      "\n",
      "          0       1.00      0.98      0.99        60\n",
      "          1       0.95      0.98      0.96        53\n",
      "          2       0.96      1.00      0.98        54\n",
      "          3       0.98      0.98      0.98        56\n",
      "          4       0.96      1.00      0.98        51\n",
      "          5       0.98      0.97      0.97        59\n",
      "          6       1.00      0.98      0.99        55\n",
      "          7       1.00      1.00      1.00        57\n",
      "          8       1.00      0.90      0.95        48\n",
      "          9       0.94      0.98      0.96        47\n",
      "\n",
      "avg / total       0.98      0.98      0.98       540\n",
      "\n"
     ]
    }
   ],
   "source": [
    "print(classification_report(y_test,pred2))"
   ]
  },
  {
   "cell_type": "code",
   "execution_count": 37,
   "metadata": {},
   "outputs": [
    {
     "data": {
      "text/plain": [
       "0.9777777777777777"
      ]
     },
     "execution_count": 37,
     "metadata": {},
     "output_type": "execute_result"
    }
   ],
   "source": [
    "metrics.accuracy_score(y_test,pred2)"
   ]
  },
  {
   "cell_type": "code",
   "execution_count": 38,
   "metadata": {},
   "outputs": [
    {
     "data": {
      "text/plain": [
       "array([[59,  0,  0,  0,  1,  0,  0,  0,  0,  0],\n",
       "       [ 0, 52,  0,  0,  0,  0,  0,  0,  0,  1],\n",
       "       [ 0,  0, 54,  0,  0,  0,  0,  0,  0,  0],\n",
       "       [ 0,  0,  1, 55,  0,  0,  0,  0,  0,  0],\n",
       "       [ 0,  0,  0,  0, 51,  0,  0,  0,  0,  0],\n",
       "       [ 0,  0,  0,  0,  0, 57,  0,  0,  0,  2],\n",
       "       [ 0,  0,  0,  0,  1,  0, 54,  0,  0,  0],\n",
       "       [ 0,  0,  0,  0,  0,  0,  0, 57,  0,  0],\n",
       "       [ 0,  3,  1,  0,  0,  1,  0,  0, 43,  0],\n",
       "       [ 0,  0,  0,  1,  0,  0,  0,  0,  0, 46]], dtype=int64)"
      ]
     },
     "execution_count": 38,
     "metadata": {},
     "output_type": "execute_result"
    }
   ],
   "source": [
    "confusion_matrix(y_test,pred2)"
   ]
  },
  {
   "cell_type": "code",
   "execution_count": 39,
   "metadata": {},
   "outputs": [],
   "source": [
    "model3=SVC(kernel=\"sigmoid\") #kernel=sigmoid"
   ]
  },
  {
   "cell_type": "code",
   "execution_count": 40,
   "metadata": {},
   "outputs": [
    {
     "data": {
      "text/plain": [
       "SVC(C=1.0, cache_size=200, class_weight=None, coef0=0.0,\n",
       "  decision_function_shape='ovr', degree=3, gamma='auto', kernel='sigmoid',\n",
       "  max_iter=-1, probability=False, random_state=None, shrinking=True,\n",
       "  tol=0.001, verbose=False)"
      ]
     },
     "execution_count": 40,
     "metadata": {},
     "output_type": "execute_result"
    }
   ],
   "source": [
    "model3.fit(x_train,y_train)"
   ]
  },
  {
   "cell_type": "code",
   "execution_count": 41,
   "metadata": {},
   "outputs": [],
   "source": [
    "pred3=model3.predict(x_test)"
   ]
  },
  {
   "cell_type": "code",
   "execution_count": 42,
   "metadata": {},
   "outputs": [
    {
     "name": "stdout",
     "output_type": "stream",
     "text": [
      "             precision    recall  f1-score   support\n",
      "\n",
      "          0       0.00      0.00      0.00        60\n",
      "          1       0.00      0.00      0.00        53\n",
      "          2       0.00      0.00      0.00        54\n",
      "          3       0.00      0.00      0.00        56\n",
      "          4       0.00      0.00      0.00        51\n",
      "          5       0.00      0.00      0.00        59\n",
      "          6       0.00      0.00      0.00        55\n",
      "          7       0.00      0.00      0.00        57\n",
      "          8       0.00      0.00      0.00        48\n",
      "          9       0.09      1.00      0.16        47\n",
      "\n",
      "avg / total       0.01      0.09      0.01       540\n",
      "\n"
     ]
    },
    {
     "name": "stderr",
     "output_type": "stream",
     "text": [
      "C:\\Users\\Dell\\Anaconda2\\lib\\site-packages\\sklearn\\metrics\\classification.py:1135: UndefinedMetricWarning: Precision and F-score are ill-defined and being set to 0.0 in labels with no predicted samples.\n",
      "  'precision', 'predicted', average, warn_for)\n"
     ]
    }
   ],
   "source": [
    "print(classification_report(y_test,pred3))"
   ]
  },
  {
   "cell_type": "code",
   "execution_count": 43,
   "metadata": {},
   "outputs": [
    {
     "data": {
      "text/plain": [
       "0.08703703703703704"
      ]
     },
     "execution_count": 43,
     "metadata": {},
     "output_type": "execute_result"
    }
   ],
   "source": [
    "metrics.accuracy_score(y_test,pred3)"
   ]
  },
  {
   "cell_type": "code",
   "execution_count": 44,
   "metadata": {},
   "outputs": [
    {
     "data": {
      "text/plain": [
       "array([[ 0,  0,  0,  0,  0,  0,  0,  0,  0, 60],\n",
       "       [ 0,  0,  0,  0,  0,  0,  0,  0,  0, 53],\n",
       "       [ 0,  0,  0,  0,  0,  0,  0,  0,  0, 54],\n",
       "       [ 0,  0,  0,  0,  0,  0,  0,  0,  0, 56],\n",
       "       [ 0,  0,  0,  0,  0,  0,  0,  0,  0, 51],\n",
       "       [ 0,  0,  0,  0,  0,  0,  0,  0,  0, 59],\n",
       "       [ 0,  0,  0,  0,  0,  0,  0,  0,  0, 55],\n",
       "       [ 0,  0,  0,  0,  0,  0,  0,  0,  0, 57],\n",
       "       [ 0,  0,  0,  0,  0,  0,  0,  0,  0, 48],\n",
       "       [ 0,  0,  0,  0,  0,  0,  0,  0,  0, 47]], dtype=int64)"
      ]
     },
     "execution_count": 44,
     "metadata": {},
     "output_type": "execute_result"
    }
   ],
   "source": [
    "confusion_matrix(y_test,pred3)"
   ]
  },
  {
   "cell_type": "code",
   "execution_count": null,
   "metadata": {},
   "outputs": [],
   "source": []
  }
 ],
 "metadata": {
  "kernelspec": {
   "display_name": "Python 2",
   "language": "python",
   "name": "python2"
  },
  "language_info": {
   "codemirror_mode": {
    "name": "ipython",
    "version": 2
   },
   "file_extension": ".py",
   "mimetype": "text/x-python",
   "name": "python",
   "nbconvert_exporter": "python",
   "pygments_lexer": "ipython2",
   "version": "2.7.14"
  }
 },
 "nbformat": 4,
 "nbformat_minor": 2
}
