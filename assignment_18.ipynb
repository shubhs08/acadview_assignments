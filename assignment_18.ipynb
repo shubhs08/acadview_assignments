{
 "cells": [
  {
   "cell_type": "code",
   "execution_count": 1,
   "metadata": {},
   "outputs": [
    {
     "name": "stdout",
     "output_type": "stream",
     "text": [
      "F = (b+c)(a-1)\n"
     ]
    }
   ],
   "source": [
    "# question 1\n",
    "print('F = (b+c)(a-1)')"
   ]
  },
  {
   "cell_type": "code",
   "execution_count": 3,
   "metadata": {},
   "outputs": [
    {
     "name": "stdout",
     "output_type": "stream",
     "text": [
      "21.3408\n"
     ]
    }
   ],
   "source": [
    "#question 2\n",
    "x1 = -0.06\n",
    "x2 = -2.5\n",
    "x3 = 1.4\n",
    "\n",
    "w1 = 2.7\n",
    "w2 = -8.6\n",
    "w3 = 0.002\n",
    "\n",
    "X = (w1*x1) + (w2*x2) +(w3*x3)\n",
    "print(X)"
   ]
  },
  {
   "cell_type": "code",
   "execution_count": 4,
   "metadata": {},
   "outputs": [],
   "source": [
    "import math"
   ]
  },
  {
   "cell_type": "code",
   "execution_count": 5,
   "metadata": {},
   "outputs": [
    {
     "name": "stdout",
     "output_type": "stream",
     "text": [
      "0.999999999461\n"
     ]
    }
   ],
   "source": [
    "fx = 1 / (1 + math.exp(-X))\n",
    "print(fx)"
   ]
  },
  {
   "cell_type": "code",
   "execution_count": 6,
   "metadata": {},
   "outputs": [
    {
     "name": "stdout",
     "output_type": "stream",
     "text": [
      "20.2408\n"
     ]
    }
   ],
   "source": [
    "bias = -1.1\n",
    "newX = X + bias\n",
    "print(newX)"
   ]
  },
  {
   "cell_type": "code",
   "execution_count": null,
   "metadata": {},
   "outputs": [],
   "source": []
  }
 ],
 "metadata": {
  "kernelspec": {
   "display_name": "Python 2",
   "language": "python",
   "name": "python2"
  },
  "language_info": {
   "codemirror_mode": {
    "name": "ipython",
    "version": 2
   },
   "file_extension": ".py",
   "mimetype": "text/x-python",
   "name": "python",
   "nbconvert_exporter": "python",
   "pygments_lexer": "ipython2",
   "version": "2.7.14"
  }
 },
 "nbformat": 4,
 "nbformat_minor": 2
}
