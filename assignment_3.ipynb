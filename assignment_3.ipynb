{
 "cells": [
  {
   "cell_type": "code",
   "execution_count": 7,
   "metadata": {},
   "outputs": [
    {
     "name": "stdout",
     "output_type": "stream",
     "text": [
      "P(A): 0.305555555556\n",
      "P(B): 0.166666666667\n",
      "P(A|B): 0.0555555555556\n"
     ]
    },
    {
     "data": {
      "text/plain": [
       "0.0303030303030303"
      ]
     },
     "execution_count": 7,
     "metadata": {},
     "output_type": "execute_result"
    }
   ],
   "source": [
    "from fractions import Fraction\n",
    "# Question 1\n",
    "def probab(A, B, C):\n",
    "    print(\"P(A): %f\" %(A))\n",
    "    print(\"P(B): %f\" %(B))\n",
    "    print(\"P(A|B): %s\" %(C))\n",
    "    cond_probab=(C*B)/A\n",
    "    return cond_probab\n",
    "    \n",
    "probab(11.0/36,6.0/36,2.0/36)"
   ]
  },
  {
   "cell_type": "code",
   "execution_count": 6,
   "metadata": {},
   "outputs": [
    {
     "name": "stdout",
     "output_type": "stream",
     "text": [
      "0.583333333333\n"
     ]
    }
   ],
   "source": [
    "#Question 2 \n",
    "\n",
    "#bag 1 with 4 white and 6 black balls\n",
    "#bag 2 with 4 white and 3 black balls\n",
    "bag1=1.0/2 #probability of selecting bag1\n",
    "bag2=1.0/2 #probability of selecting bag2\n",
    "black1=6.0/10 #probability of selecting black from bag1\n",
    "black2=3.0/7 #probability of selecting black from bag2\n",
    "probab1=(bag1*black1)/((bag1*black1)+(bag2*black2))\n",
    "print(probab1)\n",
    "\n",
    "\n"
   ]
  },
  {
   "cell_type": "markdown",
   "metadata": {},
   "source": [
    "\n"
   ]
  },
  {
   "cell_type": "code",
   "execution_count": 9,
   "metadata": {},
   "outputs": [
    {
     "name": "stdout",
     "output_type": "stream",
     "text": [
      "0.285714285714\n"
     ]
    }
   ],
   "source": [
    "#Question 3\n",
    "\n",
    "truth = 2.0/3\n",
    "lie = 1.0/3\n",
    "four = 1.0/6\n",
    "nofour = 5.0/6\n",
    "prob = (truth * four) / ((truth * four) + (lie * nofour))\n",
    "print (prob)"
   ]
  },
  {
   "cell_type": "code",
   "execution_count": null,
   "metadata": {},
   "outputs": [],
   "source": []
  }
 ],
 "metadata": {
  "kernelspec": {
   "display_name": "Python 2",
   "language": "python",
   "name": "python2"
  },
  "language_info": {
   "codemirror_mode": {
    "name": "ipython",
    "version": 2
   },
   "file_extension": ".py",
   "mimetype": "text/x-python",
   "name": "python",
   "nbconvert_exporter": "python",
   "pygments_lexer": "ipython2",
   "version": "2.7.14"
  }
 },
 "nbformat": 4,
 "nbformat_minor": 2
}
